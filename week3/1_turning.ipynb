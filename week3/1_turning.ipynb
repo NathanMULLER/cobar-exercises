{
 "cells": [
  {
   "cell_type": "markdown",
   "metadata": {},
   "source": [
    "# Encapsulating custom code into Gym environments: A turning controller\n",
    "\n",
    "**Summary:** In this tutorial, we will demonstrate how one can build controllers at different levels of abstraction by implementing Gym environments encoding variable amounts of preprogrammed computation. As an example, we will implement turning by asymmetrically modulating the amplitude and frequency of CPGs."
   ]
  },
  {
   "cell_type": "markdown",
   "metadata": {},
   "source": [
    "## Gym environments and MDP\n",
    "\n",
    "So far, we have interacted with the `NeuroMechFly` class which implements the [Gym interface](https://gymnasium.farama.org/): it has an action space (input given by the user), an observation space (output returned to the user), a `.step(...)` method, a `.reset(...)` method, and a `.render(...)` method. The action and observation spaces of `NeuroMechFly` are as follows:\n",
    "\n",
    "- Action space:\n",
    "    - \"joints\": 42-dimensional real vector ∈ [0, 2π] indicating joint angles (in default position control mode)\n",
    "    - \"adhesion\": 6-dimensional integer vector ∈ {0, 1} indicating whether adhesion is turned on for each leg\n",
    "- Observation space:\n",
    "    - \"joints\": shape (3, 42) real array indicating joint angles (0th row), velocities (1st row), and torques (2nd row)\n",
    "    - \"fly\": shape (4, 3) real array indicating fly xyz positions (0th row), xyz velocities (1st row), yaw-pitch-roll angles (2nd row), and yaw-pitch-roll velocities (3rd row)\n",
    "    - \"contact_forces\": shape (N, 3) - contact forces, in xyz directions, of the N segments defined in `contact_sensor_placements`\n",
    "    - \"end_effectors\": shape (6, 3) - xyz positions of the six legs in the order of LF, LM LH, RF, RM, RH\n",
    "    - \"fly_orientation\": shape (3,) - unit vector indicating the fly's heading orientation\n",
    "\n",
    "\n",
    "The FlyGym package is designed to be expandable: the user can implement their own Gym environments with different action and observation spaces and implement different logics (e.g. preprogrammed premotor computation and sensory processing). This is illustrated in the figure below:\n",
    "\n",
    "<img src=\"https://github.com/NeLy-EPFL/_media/blob/main/flygym/mdp.png?raw=true\" alt=\"rule_based\" width=\"500\"/>\n",
    "\n",
    "In the CPG controller that [we have implemented](https://github.com/NeLy-EPFL/cobar-exercises-internal/blob/main/week2/1_cpg_controller.ipynb), the underlying CPG network and the correction mechanisms can be considered the user-defined premotor computation (purple). The whole controller can be considered the box indicating the Markov Decision Process (MDP). Here, we will add a 2D descending signal that encodes turning. The action and observation spaces of our MDP \"box\" are as follows:\n",
    "\n",
    "- Action space: a 2-dimensional real vector describing the velocity on each side of the body. Although in principle the range of the amplitude is unrestricted, its absolute value shouldn't go far beyond 1 because otherwise the steps become very unrealistic.\n",
    "- Observation space: same as above (no sensory processing logic indicated in cyan)"
   ]
  },
  {
   "cell_type": "markdown",
   "metadata": {},
   "source": [
    "## Approach for turning\n",
    "\n",
    "We will use a 2-dimensional representation of descending signals $[\\delta_L, \\delta_R] \\in \\mathbb{R}^2$ to modulate the amplitude and direction of the leg CPGs on each side of the body. Specifically, we will modulate the intrinsic amplitude $R'$ and intrinsic frequency $\\nu'$ on each side by:\n",
    "\n",
    "$$\n",
    "R'(\\delta) = |\\delta|\n",
    "$$\n",
    "\n",
    "$$\n",
    "\\nu_i'(\\delta) = \\begin{cases}\n",
    "\\nu_i   & \\text{if } \\delta>0\\\\\n",
    "-\\nu_i  & \\text{otherwise}\n",
    "\\end{cases}\n",
    "$$\n",
    "\n",
    "In other words, the magnitude of the descending signal controls the amplitude of stepping (as a gain applied to the originally recorded step size); the sign of the descending signal controls the direction of stepping. Of course, this is a very simplified model of turning. Perhaps the most unrealistic aspect of it is that it assumes that the step size spans linearly from 0 to 1x the recorded \"real\" step size. This is an area for future improvement."
   ]
  },
  {
   "cell_type": "markdown",
   "metadata": {},
   "source": [
    "## Implementing the `TurningController` class\n",
    "\n",
    "A key idea of the Gym interface is that it allows users to encapsulate the control logic in a Gym environment (a MDP), and expose only the input and output (action and observation) to the controller. This is achieved using [class inheritance](https://www.w3schools.com/python/python_inheritance.asp) in Python. Briefly, it allows a new class (subclass or child class) to inherit attributes and methods from an existing class (base class or parent class), enabling code reuse and the creation of hierarchical relationships between classes. Refer to the tutorial linked above to familiarize yourself with this concept.\n",
    "\n",
    "All Gym environments inherit from the `gymnasium.Env` class. You can refer to [the API reference of this class](https://gymnasium.farama.org/api/env/#gymnasium-env) for a full specification, or [this page](https://gymnasium.farama.org/tutorials/gymnasium_basics/environment_creation/) for a tutorial on how to make your own custom environment. The `NeuroMechFly` class we have used so far inherits from it and therefore complies with its specifications. Here, we will build a `TurningController` class that inherits from `NeuroMechFly` to provide a simplified interface to control turning via a 2D input space, which can be interpreted as a descending code.\n",
    "\n",
    "First, let's do the necessary imports and define the default parameter as before:"
   ]
  },
  {
   "cell_type": "code",
   "execution_count": 2,
   "metadata": {},
   "outputs": [],
   "source": [
    "import numpy as np\n",
    "import matplotlib.pyplot as plt\n",
    "from tqdm import trange\n",
    "from gymnasium import spaces\n",
    "from gymnasium.utils.env_checker import check_env\n",
    "\n",
    "from flygym.mujoco import Parameters, NeuroMechFly\n",
    "from flygym.mujoco.examples.common import PreprogrammedSteps\n",
    "from flygym.mujoco.examples.cpg_controller import CPGNetwork\n",
    "\n",
    "\n",
    "_tripod_phase_biases = np.pi * np.array(\n",
    "    [\n",
    "        [0, 1, 0, 1, 0, 1],\n",
    "        [1, 0, 1, 0, 1, 0],\n",
    "        [0, 1, 0, 1, 0, 1],\n",
    "        [1, 0, 1, 0, 1, 0],\n",
    "        [0, 1, 0, 1, 0, 1],\n",
    "        [1, 0, 1, 0, 1, 0],\n",
    "    ]\n",
    ")\n",
    "_tripod_coupling_weights = (_tripod_phase_biases > 0) * 10"
   ]
  },
  {
   "cell_type": "markdown",
   "metadata": {},
   "source": [
    "Now, we will define the `__init__` method of our `TurningNMF` class.\n",
    "\n",
    "We start with initializing the parent class by calling `super().__init__(...)`. This basically calls the `__init__` logic of the parent `NeuroMechFly` class using the specified parameters:\n",
    "\n",
    "```python\n",
    "class TurningNMF(NeuroMechFly):\n",
    "    def __init__(\n",
    "        self,\n",
    "        preprogrammed_steps=None,\n",
    "        intrinsic_freqs=np.ones(6) * 12,\n",
    "        intrinsic_amps=np.ones(6) * 1,\n",
    "        phase_biases=_tripod_phase_biases,\n",
    "        coupling_weights=_tripod_coupling_weights,\n",
    "        convergence_coefs=np.ones(6) * 20,\n",
    "        init_phases=None,\n",
    "        init_magnitudes=None,\n",
    "        amplitude_range=(-0.5, 1.5),\n",
    "        seed=0,\n",
    "        **kwargs,\n",
    "    ):\n",
    "        # Initialize core NMF simulation\n",
    "        super().__init__(**kwargs)\n",
    "\n",
    "        ...\n",
    "```"
   ]
  },
  {
   "cell_type": "markdown",
   "metadata": {},
   "source": [
    "We can save the arguments as class attributes:\n",
    "\n",
    "```python\n",
    "        ...\n",
    "        \n",
    "        if preprogrammed_steps is None:\n",
    "            preprogrammed_steps = PreprogrammedSteps()\n",
    "        self.preprogrammed_steps = preprogrammed_steps\n",
    "        self.intrinsic_freqs = intrinsic_freqs\n",
    "        self.intrinsic_amps = intrinsic_amps\n",
    "        self.phase_biases = phase_biases\n",
    "        self.coupling_weights = coupling_weights\n",
    "        self.convergence_coefs = convergence_coefs\n",
    "        self.amplitude_range = amplitude_range\n",
    "\n",
    "        ...\n",
    "```"
   ]
  },
  {
   "cell_type": "markdown",
   "metadata": {},
   "source": [
    "Next, we need to override the action space of `NeuroMechFly`. This is done by defining a new Gym space object. Gym provides an [interface for various space types](https://gymnasium.farama.org/api/spaces/). An non-exhaustive list includes `Box` for a possibly-bounded box in $\\mathbb{R}^n$, `Discrete` for a finite set of options, `Text` for text, and various [composite spaces](https://gymnasium.farama.org/api/spaces/composite/) such as `Dict`, `Tuple`, `Sequence`, `Graph`. Here, we will define the descending space as a `Box` space. We won't change the observation space definition since we will return `NeuroMechFly`'s observation as is:\n",
    "\n",
    "```python\n",
    "        ...\n",
    "\n",
    "        # Define action and observation spaces\n",
    "        self.action_space = spaces.Box(*amplitude_range, shape=(2,))\n",
    "\n",
    "        ...\n",
    "```"
   ]
  },
  {
   "cell_type": "markdown",
   "metadata": {},
   "source": [
    "Then, we will initialize the CPG network that we defined [in the CPG tutorial](https://neuromechfly.org/tutorials/cpg_controller.html):\n",
    "\n",
    "```python\n",
    "        ...\n",
    "        \n",
    "        # Initialize CPG network\n",
    "        self.cpg_network = CPGNetwork(\n",
    "            timestep=self.sim_params.timestep,\n",
    "            intrinsic_freqs=intrinsic_freqs,\n",
    "            intrinsic_amps=intrinsic_amps,\n",
    "            coupling_weights=coupling_weights,\n",
    "            phase_biases=phase_biases,\n",
    "            convergence_coefs=convergence_coefs,\n",
    "            seed=seed,\n",
    "        )\n",
    "        self.cpg_network.reset(init_phases, init_magnitudes)\n",
    "\n",
    "        ...\n",
    "```"
   ]
  },
  {
   "cell_type": "markdown",
   "metadata": {},
   "source": [
    "Next, we shall define the `reset` method of our `TurningController` class. This involves resetting the underlying `NeuroMechFly` simulation — as before, we will call `super().reset(...)` to drop in the reset method of the parent class. Then, we will reset the CPG network. Note that the `**kwargs` argument is required to fully comply with the Gym API. In general, this gives the user more flexibility to pass additional arguments when initializing the Gym environment.\n",
    "\n",
    "```Python\n",
    "    def reset(self, seed=None, init_phases=None, init_magnitudes=None, **kwargs):\n",
    "        obs, info = super().reset(seed=seed)\n",
    "        self.cpg_network.random_state = np.random.RandomState(seed)\n",
    "        self.cpg_network.reset(init_phases, init_magnitudes)\n",
    "        return obs, info\n",
    "```"
   ]
  },
  {
   "cell_type": "markdown",
   "metadata": {},
   "source": [
    "Now, we are ready to implement the most important `step` method. We start by updating the intrinsic amplitudes and frequencies of the CPGs as formulated above:\n",
    "\n",
    "```Python\n",
    "    def step(self, action):\n",
    "        \"\"\"Step the simulation forward one timestep.\n",
    "        \n",
    "        Parameters\n",
    "        ----------\n",
    "        action : np.ndarray\n",
    "            Array of shape (2,) containing descending signal encoding\n",
    "            turning.\n",
    "        \"\"\"\n",
    "        # update CPG parameters\n",
    "        amps = np.repeat(np.abs(action[:, np.newaxis]), 3, axis=1).ravel()\n",
    "        freqs = self.intrinsic_freqs.copy()\n",
    "        freqs[:3] *= 1 if action[0] > 0 else -1\n",
    "        freqs[3:] *= 1 if action[1] > 0 else -1\n",
    "        self.cpg_network.intrinsic_amps = amps\n",
    "        self.cpg_network.intrinsic_freqs = freqs\n",
    "```"
   ]
  },
  {
   "cell_type": "markdown",
   "metadata": {},
   "source": [
    "Next, we can step the CPG:\n",
    "\n",
    "```Python\n",
    "        ...\n",
    "        \n",
    "        self.cpg_network.step()\n",
    "\n",
    "        ...\n",
    "```"
   ]
  },
  {
   "cell_type": "markdown",
   "metadata": {},
   "source": [
    "Then, we write a loop to go through each of the legs. In this loop, we calculate the target joint angles using the preprogrammed step class and decide whether adhesion should be turned off for swinging:\n",
    "\n",
    "```python\n",
    "        ...\n",
    "        \n",
    "        joints_angles = []\n",
    "        adhesion_onoff = []\n",
    "        for i, leg in enumerate(self.preprogrammed_steps.legs):\n",
    "            # get target angles from CPGs and apply correction\n",
    "            my_joints_angles = self.preprogrammed_steps.get_joint_angles(\n",
    "                leg,\n",
    "                self.cpg_network.curr_phases[i],\n",
    "                self.cpg_network.curr_magnitudes[i],\n",
    "            )\n",
    "            joints_angles.append(my_joints_angles)\n",
    "\n",
    "            # get adhesion on/off signal\n",
    "            my_adhesion_onoff = self.preprogrammed_steps.get_adhesion_onoff(\n",
    "                leg, self.cpg_network.curr_phases[i]\n",
    "            )\n",
    "            adhesion_onoff.append(my_adhesion_onoff)\n",
    "\n",
    "        ...\n",
    "```"
   ]
  },
  {
   "cell_type": "markdown",
   "metadata": {},
   "source": [
    "Finally, we build the action dictionary (recall from our discussion on Gym spaces above — this is a composite `Dict` space) and call the `step` method of the parent `NeuroMechFly` class using it. This concludes the definition of our `step` method.\n",
    "\n",
    "```Python\n",
    "        ...\n",
    "        \n",
    "        action = {\n",
    "            \"joints\": np.array(np.concatenate(joints_angles)),\n",
    "            \"adhesion\": np.array(adhesion_onoff).astype(int),\n",
    "        }\n",
    "        return super().step(action)\n",
    "```"
   ]
  },
  {
   "cell_type": "markdown",
   "metadata": {},
   "source": [
    "Let's put the code together:"
   ]
  },
  {
   "cell_type": "code",
   "execution_count": 3,
   "metadata": {},
   "outputs": [],
   "source": [
    "class TurningNMF(NeuroMechFly):\n",
    "    def __init__(\n",
    "        self,\n",
    "        preprogrammed_steps=None,\n",
    "        intrinsic_freqs=np.ones(6) * 12,\n",
    "        intrinsic_amps=np.ones(6) * 1,\n",
    "        phase_biases=_tripod_phase_biases,\n",
    "        coupling_weights=_tripod_coupling_weights,\n",
    "        convergence_coefs=np.ones(6) * 20,\n",
    "        init_phases=None,\n",
    "        init_magnitudes=None,\n",
    "        amplitude_range=(-0.5, 1.5),\n",
    "        seed=0,\n",
    "        **kwargs,\n",
    "    ):\n",
    "        # Initialize core NMF simulation\n",
    "        super().__init__(**kwargs)\n",
    "\n",
    "        if preprogrammed_steps is None:\n",
    "            preprogrammed_steps = PreprogrammedSteps()\n",
    "        self.preprogrammed_steps = preprogrammed_steps\n",
    "        self.intrinsic_freqs = intrinsic_freqs\n",
    "        self.intrinsic_amps = intrinsic_amps\n",
    "        self.phase_biases = phase_biases\n",
    "        self.coupling_weights = coupling_weights\n",
    "        self.convergence_coefs = convergence_coefs\n",
    "        self.amplitude_range = amplitude_range\n",
    "\n",
    "        # Define action and observation spaces\n",
    "        self.action_space = spaces.Box(*amplitude_range, shape=(2,))\n",
    "\n",
    "        # Initialize CPG network\n",
    "        self.cpg_network = CPGNetwork(\n",
    "            timestep=self.sim_params.timestep,\n",
    "            intrinsic_freqs=intrinsic_freqs,\n",
    "            intrinsic_amps=intrinsic_amps,\n",
    "            coupling_weights=coupling_weights,\n",
    "            phase_biases=phase_biases,\n",
    "            convergence_coefs=convergence_coefs,\n",
    "            seed=seed,\n",
    "        )\n",
    "        self.cpg_network.reset(init_phases, init_magnitudes)\n",
    "\n",
    "    def reset(self, seed=None, init_phases=None, init_magnitudes=None, **kwargs):\n",
    "        obs, info = super().reset(seed=seed)\n",
    "        self.cpg_network.random_state = np.random.RandomState(seed)\n",
    "        self.cpg_network.intrinsic_amps = self.intrinsic_amps\n",
    "        self.cpg_network.intrinsic_freqs = self.intrinsic_freqs\n",
    "        self.cpg_network.reset(init_phases, init_magnitudes)\n",
    "        return obs, info\n",
    "\n",
    "    def step(self, action):\n",
    "        \"\"\"Step the simulation forward one timestep.\n",
    "\n",
    "        Parameters\n",
    "        ----------\n",
    "        action : np.ndarray\n",
    "            Array of shape (2,) containing descending signal encoding\n",
    "            turning.\n",
    "        \"\"\"\n",
    "        # update CPG parameters\n",
    "        amps = np.repeat(np.abs(action[:, np.newaxis]), 3, axis=1).flatten()\n",
    "        freqs = self.intrinsic_freqs.copy()\n",
    "        freqs[:3] *= 1 if action[0] > 0 else -1\n",
    "        freqs[3:] *= 1 if action[1] > 0 else -1\n",
    "        self.cpg_network.intrinsic_amps = amps\n",
    "        self.cpg_network.intrinsic_freqs = freqs\n",
    "\n",
    "        self.cpg_network.step()\n",
    "\n",
    "        joints_angles = []\n",
    "        adhesion_onoff = []\n",
    "        for i, leg in enumerate(self.preprogrammed_steps.legs):\n",
    "            # get target angles from CPGs and apply correction\n",
    "            my_joints_angles = self.preprogrammed_steps.get_joint_angles(\n",
    "                leg,\n",
    "                self.cpg_network.curr_phases[i],\n",
    "                self.cpg_network.curr_magnitudes[i],\n",
    "            )\n",
    "            joints_angles.append(my_joints_angles)\n",
    "\n",
    "            # get adhesion on/off signal\n",
    "            my_adhesion_onoff = self.preprogrammed_steps.get_adhesion_onoff(\n",
    "                leg, self.cpg_network.curr_phases[i]\n",
    "            )\n",
    "            adhesion_onoff.append(my_adhesion_onoff)\n",
    "\n",
    "        action = {\n",
    "            \"joints\": np.array(np.concatenate(joints_angles)),\n",
    "            \"adhesion\": np.array(adhesion_onoff).astype(int),\n",
    "        }\n",
    "        return super().step(action)"
   ]
  },
  {
   "cell_type": "code",
   "execution_count": 4,
   "metadata": {},
   "outputs": [],
   "source": [
    "run_time = 1\n",
    "timestep = 1e-4\n",
    "contact_sensor_placements = [\n",
    "    f\"{leg}{segment}\"\n",
    "    for leg in [\"LF\", \"LM\", \"LH\", \"RF\", \"RM\", \"RH\"]\n",
    "    for segment in [\"Tibia\", \"Tarsus1\", \"Tarsus2\", \"Tarsus3\", \"Tarsus4\", \"Tarsus5\"]\n",
    "]\n",
    "\n",
    "sim_params = Parameters(\n",
    "    timestep=1e-4,\n",
    "    render_mode=\"saved\",\n",
    "    render_camera=\"Animat/camera_top\",\n",
    "    render_playspeed=0.1,\n",
    "    enable_adhesion=True,\n",
    "    draw_adhesion=True,\n",
    ")\n",
    "\n",
    "nmf = TurningNMF(\n",
    "    sim_params=sim_params,\n",
    "    contact_sensor_placements=contact_sensor_placements,\n",
    "    spawn_pos=(0, 0, 0.2),\n",
    ")"
   ]
  },
  {
   "cell_type": "markdown",
   "metadata": {},
   "source": [
    "We can use Gymnasium's `env_checker` utility to check if our `TurningNMF` class fully complies with the Gym API. To do this, `env_checker` will reset our environment a few times with random parameters and step it with random actions. It will then check if the observations are as specified in the observation space definition. If no exception is raised, we are in good shape."
   ]
  },
  {
   "cell_type": "code",
   "execution_count": 5,
   "metadata": {},
   "outputs": [
    {
     "name": "stderr",
     "output_type": "stream",
     "text": [
      "c:\\Users\\mulle\\miniconda3\\envs\\flygym\\Lib\\site-packages\\gymnasium\\utils\\env_checker.py:247: UserWarning: \u001b[33mWARN: For Box action spaces, we recommend using a symmetric and normalized space (range=[-1, 1] or [0, 1]). See https://stable-baselines3.readthedocs.io/en/master/guide/rl_tips.html for more information.\u001b[0m\n",
      "  logger.warn(\n",
      "c:\\Users\\mulle\\miniconda3\\envs\\flygym\\Lib\\site-packages\\gymnasium\\utils\\env_checker.py:225: UserWarning: \u001b[33mWARN: A Box observation space minimum value is -infinity. This is probably too low.\u001b[0m\n",
      "  logger.warn(\n",
      "c:\\Users\\mulle\\miniconda3\\envs\\flygym\\Lib\\site-packages\\gymnasium\\utils\\env_checker.py:229: UserWarning: \u001b[33mWARN: A Box observation space maximum value is -infinity. This is probably too high.\u001b[0m\n",
      "  logger.warn(\n",
      "c:\\Users\\mulle\\miniconda3\\envs\\flygym\\Lib\\site-packages\\gymnasium\\utils\\env_checker.py:321: UserWarning: \u001b[33mWARN: Not able to test alternative render modes due to the environment not having a spec. Try instantialising the environment through gymnasium.make\u001b[0m\n",
      "  logger.warn(\n"
     ]
    }
   ],
   "source": [
    "check_env(nmf)"
   ]
  },
  {
   "cell_type": "markdown",
   "metadata": {},
   "source": [
    "Let's run the simulation, applying a steady [1.2, 0.2] turn throughout. We will also record the magnitude of the CPGs over time."
   ]
  },
  {
   "cell_type": "code",
   "execution_count": 6,
   "metadata": {},
   "outputs": [
    {
     "name": "stderr",
     "output_type": "stream",
     "text": [
      "  0%|          | 0/10000 [00:00<?, ?it/s]"
     ]
    },
    {
     "name": "stderr",
     "output_type": "stream",
     "text": [
      "100%|██████████| 10000/10000 [00:28<00:00, 346.20it/s]\n"
     ]
    }
   ],
   "source": [
    "magnitude_hist = []\n",
    "obs, info = nmf.reset(seed=0)\n",
    "for i in trange(int(run_time / nmf.sim_params.timestep)):\n",
    "    curr_time = i * nmf.sim_params.timestep\n",
    "    action = np.array([1.2, 0.2])\n",
    "    obs, reward, terminated, truncated, info = nmf.step(action)\n",
    "    nmf.render()\n",
    "    magnitude_hist.append(nmf.cpg_network.curr_magnitudes.copy())"
   ]
  },
  {
   "cell_type": "markdown",
   "metadata": {},
   "source": [
    "Let's visualize the time series of the CPG magnitudes. As expected, three CPGs converge to a faster step while the others converge to a smaller one."
   ]
  },
  {
   "cell_type": "code",
   "execution_count": 7,
   "metadata": {},
   "outputs": [
    {
     "name": "stderr",
     "output_type": "stream",
     "text": [
      "Un sous-r�pertoire ou un fichier -p existe d�j�.\n",
      "Une erreur s'est produite lors du traitement de�: -p.\n",
      "Un sous-r�pertoire ou un fichier outputs existe d�j�.\n",
      "Une erreur s'est produite lors du traitement de�: outputs.\n"
     ]
    },
    {
     "data": {
      "image/png": "[encoded data removed]",
      "text/plain": [
       "<Figure size 400x300 with 1 Axes>"
      ]
     },
     "metadata": {},
     "output_type": "display_data"
    }
   ],
   "source": [
    "!mkdir -p outputs\n",
    "t = np.arange(0, run_time, nmf.sim_params.timestep)\n",
    "fig, ax = plt.subplots(1, 1, figsize=(4, 3), tight_layout=True)\n",
    "for ts in np.array(magnitude_hist).T:\n",
    "    ax.plot(t, ts)\n",
    "ax.set_xlabel(\"Time (s)\")\n",
    "ax.set_ylabel(\"CPG magnitude\")\n",
    "fig.savefig(\"./outputs/turning_cpg_magnitude.png\")"
   ]
  },
  {
   "cell_type": "markdown",
   "metadata": {},
   "source": [
    "Finally, let's take a look at the video:"
   ]
  },
  {
   "cell_type": "code",
   "execution_count": 8,
   "metadata": {},
   "outputs": [
    {
     "data": {
      "text/html": [
       "<video src=\"./outputs/turning.mp4\" controls  >\n",
       "      Your browser does not support the <code>video</code> element.\n",
       "    </video>"
      ],
      "text/plain": [
       "<IPython.core.display.Video object>"
      ]
     },
     "execution_count": 8,
     "metadata": {},
     "output_type": "execute_result"
    }
   ],
   "source": [
    "from IPython.display import Video\n",
    "\n",
    "nmf.save_video(\"./outputs/turning.mp4\")\n",
    "Video(\"./outputs/turning.mp4\")"
   ]
  },
  {
   "cell_type": "markdown",
   "metadata": {},
   "source": [
    "# Exercise 1\n",
    "In this exercise, let's quantify how much the fly turns over time with a descending signal of [0.2, 1.2]."
   ]
  },
  {
   "cell_type": "code",
   "execution_count": 9,
   "metadata": {},
   "outputs": [
    {
     "name": "stderr",
     "output_type": "stream",
     "text": [
      "  0%|          | 0/60000 [00:00<?, ?it/s]"
     ]
    },
    {
     "name": "stderr",
     "output_type": "stream",
     "text": [
      "100%|██████████| 60000/60000 [02:52<00:00, 347.89it/s]\n"
     ]
    },
    {
     "data": {
      "text/html": [
       "<video src=\"./outputs/turning_6s.mp4\" controls  >\n",
       "      Your browser does not support the <code>video</code> element.\n",
       "    </video>"
      ],
      "text/plain": [
       "<IPython.core.display.Video object>"
      ]
     },
     "execution_count": 9,
     "metadata": {},
     "output_type": "execute_result"
    }
   ],
   "source": [
    "run_time = 6\n",
    "obs, info = nmf.reset(seed=0)\n",
    "obs_hist = []\n",
    "\n",
    "for i in trange(int(run_time / nmf.sim_params.timestep)):\n",
    "    action = np.array([0.2, 1.2])\n",
    "    obs = nmf.step(action)[0]\n",
    "    obs_hist.append(obs)\n",
    "    nmf.render()\n",
    "\n",
    "nmf.save_video(\"./outputs/turning_6s.mp4\")\n",
    "Video(\"./outputs/turning_6s.mp4\")"
   ]
  },
  {
   "cell_type": "markdown",
   "metadata": {},
   "source": [
    "Compute the change in the heading angle over time:"
   ]
  },
  {
   "cell_type": "code",
   "execution_count": 57,
   "metadata": {},
   "outputs": [
    {
     "data": {
      "text/plain": [
       "Text(0, 0.5, 'Heading angle change (rad)')"
      ]
     },
     "execution_count": 57,
     "metadata": {},
     "output_type": "execute_result"
    },
    {
     "data": {
      "image/png": "[encoded data removed]",
      "text/plain": [
       "<Figure size 400x300 with 1 Axes>"
      ]
     },
     "metadata": {},
     "output_type": "display_data"
    }
   ],
   "source": [
    "#################################################################################\n",
    "# TODO: Calculate the change in heading angle over time (~3 lines of code)\n",
    "# Hint 1: Which element of the observation dictionary contains the heading angle?\n",
    "# Hint 2: Use numpy.unwrap to handle the 2pi wrap-around:\n",
    "# https://numpy.org/doc/stable/reference/generated/numpy.unwrap.html\n",
    "\n",
    "heading_angle_change = np.diff(np.unwrap([obs[\"fly_orientation\"] for obs in obs_hist]))\n",
    "#################################################################################\n",
    "\n",
    "fig, ax = plt.subplots(1, 1, figsize=(4, 3), tight_layout=True)\n",
    "t = np.arange(0, run_time, nmf.sim_params.timestep)\n",
    "ax.plot(t, heading_angle_change, c=\"k\")\n",
    "ax.set_xlabel(\"Time (s)\")\n",
    "ax.set_ylabel(\"Heading angle change (rad)\")"
   ]
  },
  {
   "cell_type": "markdown",
   "metadata": {},
   "source": [
    "It looks like the amount of turning is linearly correlated to the elapsed time. Let's define a function to calculate the slope of the line."
   ]
  },
  {
   "cell_type": "code",
   "execution_count": 58,
   "metadata": {},
   "outputs": [
    {
     "name": "stdout",
     "output_type": "stream",
     "text": [
      "-0.21780854095133687\n",
      "Turning speed = -0.21780854095133687 rad/s\n"
     ]
    },
    {
     "data": {
      "text/plain": [
       "Text(0, 0.5, 'Heading angle change (rad)')"
      ]
     },
     "execution_count": 58,
     "metadata": {},
     "output_type": "execute_result"
    },
    {
     "data": {
      "image/png": "[encoded data removed]",
      "text/plain": [
       "<Figure size 400x300 with 1 Axes>"
      ]
     },
     "metadata": {},
     "output_type": "display_data"
    }
   ],
   "source": [
    "import statistics\n",
    "\n",
    "def get_slope(x, y):\n",
    "    ################################################################################\n",
    "    # TODO: Calculate the slope of the line\n",
    "    # Hint: Instead of implementing linear regression yourself, you can\n",
    "    # existing implementations, such as the linear_regression function from\n",
    "    # the statistics module in the Python standard library:\n",
    "    # https://docs.python.org/3/library/statistics.html#statistics.linear_regression\n",
    "    y_prime = []\n",
    "    for i in range(len(y)):\n",
    "        y_prime.append(y[i][0])\n",
    "    slope = statistics.linear_regression(x, y_prime)[0]\n",
    "    print(slope)\n",
    "    ################################################################################\n",
    "\n",
    "    return slope\n",
    "\n",
    "\n",
    "turning_speed = get_slope(t, heading_angle_change)\n",
    "print(f\"Turning speed = {turning_speed} rad/s\")\n",
    "\n",
    "fig, ax = plt.subplots(1, 1, figsize=(4, 3), tight_layout=True)\n",
    "t = np.arange(0, run_time, nmf.sim_params.timestep)\n",
    "ax.plot(t, heading_angle_change, c=\"k\")\n",
    "ax.plot(t, turning_speed * t, ls=\"--\", c=\"r\")\n",
    "ax.set_xlabel(\"Time (s)\")\n",
    "ax.set_ylabel(\"Heading angle change (rad)\")"
   ]
  },
  {
   "cell_type": "markdown",
   "metadata": {},
   "source": [
    "# Exercise 2:\n",
    "In theory, we have the capability to modulate the fly's turning using a scalar signal rather than a 2D descending signal.\n",
    "\n",
    "Let's create a class whose action space is $[-1, 1]\\in\\mathbb{R}$. In this space, the signals -1, 0, and 1 correspond to turning left, walking forward, and turning right, respectively. We can achieve this by extending the functionality of the existing `TurningNMF` class and incorporating the conversion from a 1D to a 2D descending signal inside the `step` method. The conversion process is illustrated in the diagram below:"
   ]
  },
  {
   "cell_type": "markdown",
   "metadata": {},
   "source": [
    "![](data:image/png;base64,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\n",
    ")"
   ]
  },
  {
   "cell_type": "code",
   "execution_count": null,
   "metadata": {},
   "outputs": [],
   "source": [
    "class TurningNMF1D(TurningNMF):\n",
    "    def __init__(self, r=1, **kwargs):\n",
    "        super().__init__(**kwargs)\n",
    "\n",
    "        ############################################################################\n",
    "        # TODO: Define the action space using spaces.Box (1 line of code)\n",
    "        # Refer to https://www.gymlibrary.dev/api/spaces/#gym.spaces.Box for details\n",
    "\n",
    "        self.action_space = ...\n",
    "        ############################################################################\n",
    "\n",
    "    def step(self, action):\n",
    "        ############################################################################\n",
    "        # TODO: Convert the 1D action to 2D action  (~2 lines of code)\n",
    "\n",
    "        action = ...\n",
    "        ############################################################################\n",
    "        return super().step(action)\n",
    "\n",
    "\n",
    "nmf1d = TurningNMF1D(\n",
    "    sim_params=sim_params,\n",
    "    contact_sensor_placements=contact_sensor_placements,\n",
    "    spawn_pos=(0, 0, 0.2),\n",
    ")\n",
    "\n",
    "check_env(nmf1d)"
   ]
  },
  {
   "cell_type": "markdown",
   "metadata": {},
   "source": [
    "Let's use a triangle wave as the action:"
   ]
  },
  {
   "cell_type": "code",
   "execution_count": null,
   "metadata": {},
   "outputs": [],
   "source": [
    "from scipy.signal import sawtooth\n",
    "\n",
    "run_time = 4\n",
    "n_steps = int(run_time / nmf.sim_params.timestep)\n",
    "actions = sawtooth(np.linspace(0, 4 * np.pi, n_steps), 0.5)\n",
    "\n",
    "fig, ax = plt.subplots(1, 1, figsize=(4, 2), tight_layout=True)\n",
    "ax.plot(np.arange(n_steps) * nmf.sim_params.timestep, actions, c=\"k\")\n",
    "ax.set_xlabel(\"Time (s)\")\n",
    "ax.set_ylabel(\"Action\")"
   ]
  },
  {
   "cell_type": "code",
   "execution_count": null,
   "metadata": {},
   "outputs": [],
   "source": [
    "obs_hist = []\n",
    "obs, info = nmf1d.reset(seed=0)\n",
    "\n",
    "for i in trange(n_steps):\n",
    "    obs = nmf1d.step(actions[i])[0]\n",
    "    obs_hist.append(obs)\n",
    "    nmf1d.render()\n",
    "\n",
    "nmf1d.save_video(\"./outputs/turning1d.mp4\")\n",
    "Video(\"./outputs/turning1d.mp4\")"
   ]
  },
  {
   "cell_type": "markdown",
   "metadata": {},
   "source": [
    "Plot the trajectory of the fly:"
   ]
  },
  {
   "cell_type": "code",
   "execution_count": null,
   "metadata": {},
   "outputs": [],
   "source": [
    "#################################################################\n",
    "# TODO: get the fly's trajectory from obs_hist\n",
    "trajectory = ...\n",
    "#################################################################\n",
    "\n",
    "fig, ax = plt.subplots(1, 1, figsize=(4, 3), tight_layout=True)\n",
    "ax.plot(trajectory[:, 0], trajectory[:, 1], color=\"k\")\n",
    "ax.set_xlabel(\"x (mm)\")\n",
    "ax.set_ylabel(\"y (mm)\")"
   ]
  },
  {
   "cell_type": "markdown",
   "metadata": {},
   "source": [
    "What limitation does the `TurningNMF1D` class have compared to the `TurningNMF` class?\n",
    "\n",
    "TODO: Your answer here"
   ]
  }
 ],
 "metadata": {
  "kernelspec": {
   "display_name": "flygym0.2",
   "language": "python",
   "name": "python3"
  },
  "language_info": {
   "codemirror_mode": {
    "name": "ipython",
    "version": 3
   },
   "file_extension": ".py",
   "mimetype": "text/x-python",
   "name": "python",
   "nbconvert_exporter": "python",
   "pygments_lexer": "ipython3",
   "version": "3.11.7"
  },
  "orig_nbformat": 4
 },
 "nbformat": 4,
 "nbformat_minor": 2
}
