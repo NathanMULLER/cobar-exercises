{
 "cells": [
  {
   "cell_type": "code",
   "execution_count": 30,
   "metadata": {},
   "outputs": [],
   "source": [
    "import numpy as np\n",
    "import pickle\n",
    "import matplotlib.pyplot as plt\n",
    "from pathlib import Path\n",
    "from tqdm import trange\n",
    "\n",
    "\n",
    "import flygym.common\n",
    "import flygym.mujoco\n",
    "import flygym.mujoco.preprogrammed\n",
    "\n",
    "from flygym.mujoco import Parameters\n",
    "\n",
    "\n",
    "from nmf_grooming import (\n",
    "    NeuromechflyGrooming,\n",
    "    all_groom_dofs,\n",
    "    load_grooming_data,\n",
    "    plot_state_and_contacts,\n",
    ")\n",
    "from scipy.signal import find_peaks, medfilt\n",
    "from IPython.display import Video\n",
    "\n",
    "from flygym.mujoco.examples.rule_based_controller import PreprogrammedSteps"
   ]
  },
  {
   "cell_type": "code",
   "execution_count": 21,
   "metadata": {},
   "outputs": [],
   "source": [
    "run_time = 1\n",
    "\n",
    "sim_params = flygym.mujoco.Parameters(\n",
    "    timestep=1e-4,\n",
    "    render_mode=\"saved\",\n",
    "    render_playspeed=0.2,\n",
    "    enable_adhesion=True,\n",
    "    draw_adhesion=True,\n",
    ")\n",
    "\n",
    "actuated_joints = flygym.mujoco.preprogrammed.all_leg_dofs"
   ]
  },
  {
   "cell_type": "code",
   "execution_count": 22,
   "metadata": {},
   "outputs": [],
   "source": [
    "target_num_steps = int(run_time / sim_params.timestep)\n"
   ]
  },
  {
   "cell_type": "code",
   "execution_count": 23,
   "metadata": {},
   "outputs": [],
   "source": [
    "nmf = flygym.mujoco.NeuroMechFly(\n",
    "    sim_params = sim_params,\n",
    "    init_pose = \"stretch\",\n",
    "    actuated_joints = actuated_joints,\n",
    "    control = \"position\",\n",
    ")"
   ]
  },
  {
   "cell_type": "code",
   "execution_count": 24,
   "metadata": {},
   "outputs": [],
   "source": [
    "data_path = flygym.common.get_data_path(\"flygym\", \"data\")\n",
    "with open(data_path / \"behavior\" / \"210902_pr_fly1.pkl\", \"rb\") as f:\n",
    "    data = pickle.load(f)\n",
    "\n",
    "data_block = np.zeros((len(actuated_joints), target_num_steps))\n",
    "\n",
    "input_t = np.arange(len(data[\"joint_LFCoxa\"])) * data[\"meta\"][\"timestep\"]\n",
    "output_t = np.arange(target_num_steps) * sim_params.timestep\n",
    "for i, dof in enumerate(actuated_joints):\n",
    "    data_block[i, :] = np.interp(output_t, input_t, data[dof])"
   ]
  },
  {
   "cell_type": "code",
   "execution_count": 25,
   "metadata": {},
   "outputs": [],
   "source": [
    "obs, info = nmf.reset()\n",
    "\n",
    "legs = [f\"{side}{pos}\" for side in \"LR\" for pos in \"FMH\"]\n",
    "dofs_per_leg = [\n",
    "    \"Coxa\",\n",
    "    \"Coxa_roll\",\n",
    "    \"Coxa_yaw\",\n",
    "    \"Femur\",\n",
    "    \"Femur_roll\",\n",
    "    \"Tibia\",\n",
    "    \"Tarsus1\",\n",
    "]\n"
   ]
  },
  {
   "cell_type": "code",
   "execution_count": 26,
   "metadata": {},
   "outputs": [
    {
     "name": "stdout",
     "output_type": "stream",
     "text": [
      "[[ 6.01047575e-01  6.01047575e-01  6.01047575e-01 ...  6.01047575e-01\n",
      "   6.01047575e-01  6.01047575e-01]\n",
      " [ 8.14028257e-01  8.13946846e-01  8.13865435e-01 ...  1.62821934e-04\n",
      "   8.14109668e-05  0.00000000e+00]\n",
      " [-7.02044809e-02 -7.01974597e-02 -7.01904386e-02 ... -1.40423004e-05\n",
      "  -7.02115020e-06  0.00000000e+00]\n",
      " ...\n",
      " [ 2.55398350e-01  2.55398350e-01  2.55398350e-01 ...  2.55398350e-01\n",
      "   2.55398350e-01  2.55398350e-01]\n",
      " [ 1.12100818e+00  1.12100818e+00  1.12100818e+00 ...  1.12100818e+00\n",
      "   1.12100818e+00  1.12100818e+00]\n",
      " [-4.33544092e-01 -4.33544092e-01 -4.33544092e-01 ... -4.33544092e-01\n",
      "  -4.33544092e-01 -4.33544092e-01]]\n"
     ]
    }
   ],
   "source": [
    "all_joints_pos = np.copy(data_block)\n",
    "\n",
    "for i, data in enumerate(data_block[:,0]):\n",
    "    if (i > 6 and i < 13) or (i > 27 and i < 35):\n",
    "        all_joints_pos[i, :] = np.linspace(data, 0, target_num_steps)\n",
    "    elif (i > 0 and i < 7) or (i > 20 and i < 28):\n",
    "        all_joints_pos[i, :] = np.linspace(data, 0, target_num_steps)\n",
    "    else:\n",
    "        all_joints_pos[i, :] = np.linspace(data, data, target_num_steps)\n",
    "\n",
    "print(all_joints_pos)\n"
   ]
  },
  {
   "cell_type": "code",
   "execution_count": 27,
   "metadata": {},
   "outputs": [],
   "source": [
    "adhesion = np.zeros(len(legs))\n",
    "for i in range(len(legs)):\n",
    "    if legs[i].endswith(\"M\"):\n",
    "        adhesion[i] = 1\n",
    "    elif legs[i].endswith(\"F\"):\n",
    "        adhesion[i] = 1\n",
    "    elif legs[i].endswith(\"H\"):\n",
    "        adhesion[i] = 0\n"
   ]
  },
  {
   "cell_type": "code",
   "execution_count": 28,
   "metadata": {},
   "outputs": [],
   "source": [
    "\n",
    "for i in range(target_num_steps):\n",
    "    joint_pos = all_joints_pos[:, i]\n",
    "    action = {\"joints\": joint_pos, \"adhesion\": adhesion}\n",
    "    obs, reward, terminated, truncated, info = nmf.step(action)\n",
    "    nmf.render()\n",
    "nmf.save_video(\"./outputs/stretch.mp4\")"
   ]
  },
  {
   "cell_type": "code",
   "execution_count": 29,
   "metadata": {},
   "outputs": [
    {
     "data": {
      "text/html": [
       "<video src=\"./outputs/stretch.mp4\" controls  >\n",
       "      Your browser does not support the <code>video</code> element.\n",
       "    </video>"
      ],
      "text/plain": [
       "<IPython.core.display.Video object>"
      ]
     },
     "execution_count": 29,
     "metadata": {},
     "output_type": "execute_result"
    }
   ],
   "source": [
    "Video(\"./outputs/stretch.mp4\")"
   ]
  },
  {
   "cell_type": "code",
   "execution_count": 55,
   "metadata": {},
   "outputs": [
    {
     "name": "stderr",
     "output_type": "stream",
     "text": [
      "WARNING:root:Overriding `draw_adhesion` to False because adhesion is not enabled.\n"
     ]
    },
    {
     "name": "stdout",
     "output_type": "stream",
     "text": [
      "[0.60104758 0.6011889  0.60133022 ... 0.13406378 0.13406378 0.13406378]\n",
      "[0. 0. 0. ... 0. 0. 0.]\n"
     ]
    },
    {
     "ename": "NameError",
     "evalue": "name 'swing_periods' is not defined",
     "output_type": "error",
     "traceback": [
      "\u001b[1;31m---------------------------------------------------------------------------\u001b[0m",
      "\u001b[1;31mNameError\u001b[0m                                 Traceback (most recent call last)",
      "Cell \u001b[1;32mIn[55], line 52\u001b[0m\n\u001b[0;32m     48\u001b[0m R_midleg_stretch \u001b[38;5;241m=\u001b[39m np\u001b[38;5;241m.\u001b[39mlinspace(R_midleg_start, \u001b[38;5;241m0.0\u001b[39m, target_num_steps)\n\u001b[0;32m     49\u001b[0m \u001b[38;5;28mprint\u001b[39m(L_midleg_stretch)\n\u001b[1;32m---> 52\u001b[0m foreleg_swing_ids \u001b[38;5;241m=\u001b[39m np\u001b[38;5;241m.\u001b[39mlinspace(\u001b[38;5;241m0.0\u001b[39m, \u001b[43mswing_periods\u001b[49m[\u001b[38;5;124m\"\u001b[39m\u001b[38;5;124mRF\u001b[39m\u001b[38;5;124m\"\u001b[39m][\u001b[38;5;241m1\u001b[39m], target_num_steps)\n\u001b[0;32m     53\u001b[0m middle_stance_ids \u001b[38;5;241m=\u001b[39m np\u001b[38;5;241m.\u001b[39mlinspace(swing_periods[\u001b[38;5;124m\"\u001b[39m\u001b[38;5;124mRM\u001b[39m\u001b[38;5;124m\"\u001b[39m][\u001b[38;5;241m1\u001b[39m], \u001b[38;5;241m2\u001b[39m\u001b[38;5;241m*\u001b[39mnp\u001b[38;5;241m.\u001b[39mpi, target_num_steps)\n\u001b[0;32m     54\u001b[0m hind_ids \u001b[38;5;241m=\u001b[39m np\u001b[38;5;241m.\u001b[39mzeros(target_num_steps)\n",
      "\u001b[1;31mNameError\u001b[0m: name 'swing_periods' is not defined"
     ]
    }
   ],
   "source": [
    "run_time = 1\n",
    "\n",
    "legs = [f\"{side}{pos}\" for side in \"LR\" for pos in \"FMH\"]\n",
    "dofs_per_leg = [\n",
    "    \"Coxa\",\n",
    "    \"Coxa_roll\",\n",
    "    \"Coxa_yaw\",\n",
    "    \"Femur\",\n",
    "    \"Femur_roll\",\n",
    "    \"Tibia\",\n",
    "    \"Tarsus1\",\n",
    "]\n",
    "\n",
    "sim_params = flygym.mujoco.Parameters(\n",
    "    timestep=1e-4,\n",
    "    render_mode=\"saved\",\n",
    "    render_playspeed=0.2,\n",
    "    draw_adhesion=True,\n",
    "    draw_contacts=True,\n",
    ")\n",
    "\n",
    "\n",
    "data_path = flygym.common.get_data_path(\"flygym\", \"data\")\n",
    "with open(data_path / \"behavior\" / \"210902_pr_fly1.pkl\", \"rb\") as f:\n",
    "    data = pickle.load(f)\n",
    "\n",
    "actuated_joints = flygym.mujoco.preprogrammed.all_leg_dofs\n",
    "target_num_steps = int(run_time / sim_params.timestep)\n",
    "data_block = np.zeros((len(actuated_joints), target_num_steps))\n",
    "\n",
    "input_t = np.arange(len(data[\"joint_LFCoxa\"])) * data[\"meta\"][\"timestep\"]\n",
    "output_t = np.arange(target_num_steps) * sim_params.timestep\n",
    "for i, dof in enumerate(actuated_joints):\n",
    "    data_block[i, :] = np.interp(output_t, input_t, data[dof])\n",
    "print(data_block[0])\n",
    "\n",
    "nmf = flygym.mujoco.NeuroMechFly(\n",
    "    sim_params=sim_params,\n",
    "    init_pose=\"stretch\",\n",
    "    actuated_joints=actuated_joints,\n",
    "    control=\"position\",\n",
    ")\n",
    "obs, info = nmf.reset()\n",
    "\n",
    "for i in trange(target_num_steps):\n",
    "    \n",
    "    for i, leg in enumerate(legs):\n",
    "    joint_pos = data_block[:, 0]\n",
    "    action = {\"joints\": joint_pos}\n",
    "    obs, reward, terminated, truncated, info = nmf.step(action)\n",
    "    nmf.render()\n",
    "\n",
    "\n",
    "nmf.save_video(\"./outputs/test.mp4\")"
   ]
  },
  {
   "cell_type": "code",
   "execution_count": 52,
   "metadata": {},
   "outputs": [
    {
     "data": {
      "text/html": [
       "<video src=\"./outputs/test.mp4\" controls  >\n",
       "      Your browser does not support the <code>video</code> element.\n",
       "    </video>"
      ],
      "text/plain": [
       "<IPython.core.display.Video object>"
      ]
     },
     "execution_count": 52,
     "metadata": {},
     "output_type": "execute_result"
    }
   ],
   "source": [
    "Video(\"./outputs/test.mp4\")"
   ]
  },
  {
   "cell_type": "code",
   "execution_count": null,
   "metadata": {},
   "outputs": [],
   "source": [
    " \n",
    "\n",
    "L_midleg_start = obs[\"joints\"][0][2]\n",
    "L_midleg_stretch = np.linspace(L_midleg_start, 0.0, target_num_steps)\n",
    "\n",
    "R_midleg_start = obs[\"joints\"][0][5]\n",
    "R_midleg_stretch = np.linspace(R_midleg_start, 0.0, target_num_steps)\n",
    "print(L_midleg_stretch)\n",
    "\n",
    "\n",
    "foreleg_swing_ids = np.linspace(0.0, swing_periods[\"RF\"][1], target_num_steps)\n",
    "middle_stance_ids = np.linspace(swing_periods[\"RM\"][1], 2*np.pi, target_num_steps)\n",
    "hind_ids = np.zeros(target_num_steps)\n",
    "\n",
    "\n",
    "\n",
    "\n",
    "adhesion_action = np.array(0.0 if leg.endswith(\"H\") else 1.0 for leg in legs)\n",
    "\n",
    "\n",
    "\n",
    "\n",
    "\n",
    "\n",
    "\n",
    "\n",
    "joints_angles = {}\n",
    "    for leg in legs:\n",
    "        if leg.endswith(\"M\"):\n",
    "            midleg_joint_angles = preprogrammed_steps.get_joint_angles(leg, middle_stance_ids[i])\n",
    "            if leg.startswith(\"R\"):\n",
    "                midleg_joint_angles += R_midleg_stretch[i]\n",
    "            elif leg.startswith(\"L\"):\n",
    "                midleg_joint_angles += L_midleg_stretch[i]\n",
    "            joints_angles.extend(midleg_joint_angles)\n",
    "        elif leg.endswith(\"H\"):\n",
    "            joints_angles.extend(preprogrammed_steps.get_joint_angles(leg, hind_ids[i]))\n",
    "        else:\n",
    "            joints_angles.extend(preprogrammed_steps.get_joint_angles(leg, foreleg_swing_ids[i]))\n",
    "    \n",
    "    all_joint_angles.append(joints_angles.copy())\n",
    "\n",
    "\n",
    "    action = {\"joints\": np.array(joints_angles), \"adhesion\": adhesion_action}"
   ]
  }
 ],
 "metadata": {
  "kernelspec": {
   "display_name": "flygym",
   "language": "python",
   "name": "python3"
  },
  "language_info": {
   "codemirror_mode": {
    "name": "ipython",
    "version": 3
   },
   "file_extension": ".py",
   "mimetype": "text/x-python",
   "name": "python",
   "nbconvert_exporter": "python",
   "pygments_lexer": "ipython3",
   "version": "3.11.7"
  }
 },
 "nbformat": 4,
 "nbformat_minor": 2
}
